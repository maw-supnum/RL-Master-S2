{
 "cells": [
  {
   "cell_type": "markdown",
   "id": "25fc387c",
   "metadata": {},
   "source": [
    "# SARSA Trading Algorithm\n",
    "\n",
    "This notebook implements a way to evaluate S&P 500 index"
   ]
  },
  {
   "cell_type": "code",
   "execution_count": 10,
   "id": "46d3d91c",
   "metadata": {},
   "outputs": [],
   "source": [
    "import pandas as pd\n",
    "import numpy as np"
   ]
  },
  {
   "cell_type": "markdown",
   "id": "data_loading",
   "metadata": {},
   "source": [
    "## Data Loading and Processing"
   ]
  },
  {
   "cell_type": "code",
   "execution_count": 11,
   "id": "8bdb3fe6",
   "metadata": {},
   "outputs": [],
   "source": [
    "df = pd.read_csv(\"/home/youssouf/Downloads/archive/sp500_5yr.csv\")"
   ]
  },
  {
   "cell_type": "code",
   "execution_count": 12,
   "id": "ad010c4e",
   "metadata": {},
   "outputs": [
    {
     "name": "stdout",
     "output_type": "stream",
     "text": [
      "Processed data shape: (1259, 2340)\n",
      "Date range: 2013-02-08 to 2018-02-07\n"
     ]
    }
   ],
   "source": [
    "# Compute the index prices (volume-weighted average)\n",
    "unique_symbols = df['Name'].unique()\n",
    "new_df = {}\n",
    "dates = None\n",
    "\n",
    "for i, symbol in enumerate(unique_symbols):\n",
    "    partial_df = df[df['Name'] == symbol].copy()\n",
    "    partial_df = partial_df.sort_values(by='date')\n",
    "\n",
    "    if partial_df.isna().sum().sum() > 0:\n",
    "        continue\n",
    "    if dates is None:\n",
    "        dates = partial_df['date'].to_list()\n",
    "        if len(dates) < 1259: \n",
    "            continue\n",
    "    elif len(partial_df) < 1259:\n",
    "        continue\n",
    "    else:\n",
    "        assert dates == partial_df['date'].to_list(), \"Dates do not match across symbols\"\n",
    "    \n",
    "    for col in ['open', 'high', 'low', 'close', 'volume']:\n",
    "        new_df[col + f\"-{symbol}\"] = partial_df[col].to_list()\n",
    "\n",
    "new_df = pd.DataFrame(new_df)\n",
    "\n",
    "# Convert to float64\n",
    "for col in new_df.columns:\n",
    "    new_df[col] = new_df[col].astype(np.float64)\n",
    "\n",
    "new_df['date'] = dates\n",
    "new_df = new_df.set_index('date')\n",
    "\n",
    "print(f\"Processed data shape: {new_df.shape}\")\n",
    "print(f\"Date range: {new_df.index[0]} to {new_df.index[-1]}\")"
   ]
  },
  {
   "cell_type": "code",
   "execution_count": 13,
   "id": "a797268a",
   "metadata": {},
   "outputs": [
    {
     "name": "stdout",
     "output_type": "stream",
     "text": [
      "Index prices shape: (1259, 4)\n"
     ]
    },
    {
     "data": {
      "text/html": [
       "<div>\n",
       "<style scoped>\n",
       "    .dataframe tbody tr th:only-of-type {\n",
       "        vertical-align: middle;\n",
       "    }\n",
       "\n",
       "    .dataframe tbody tr th {\n",
       "        vertical-align: top;\n",
       "    }\n",
       "\n",
       "    .dataframe thead th {\n",
       "        text-align: right;\n",
       "    }\n",
       "</style>\n",
       "<table border=\"1\" class=\"dataframe\">\n",
       "  <thead>\n",
       "    <tr style=\"text-align: right;\">\n",
       "      <th></th>\n",
       "      <th>open</th>\n",
       "      <th>high</th>\n",
       "      <th>low</th>\n",
       "      <th>close</th>\n",
       "    </tr>\n",
       "    <tr>\n",
       "      <th>date</th>\n",
       "      <th></th>\n",
       "      <th></th>\n",
       "      <th></th>\n",
       "      <th></th>\n",
       "    </tr>\n",
       "  </thead>\n",
       "  <tbody>\n",
       "    <tr>\n",
       "      <th>2013-02-08</th>\n",
       "      <td>41.082020</td>\n",
       "      <td>41.500640</td>\n",
       "      <td>40.789177</td>\n",
       "      <td>41.207748</td>\n",
       "    </tr>\n",
       "    <tr>\n",
       "      <th>2013-02-11</th>\n",
       "      <td>40.832917</td>\n",
       "      <td>41.173278</td>\n",
       "      <td>40.513390</td>\n",
       "      <td>40.862581</td>\n",
       "    </tr>\n",
       "    <tr>\n",
       "      <th>2013-02-12</th>\n",
       "      <td>39.197571</td>\n",
       "      <td>39.582484</td>\n",
       "      <td>38.799817</td>\n",
       "      <td>39.161757</td>\n",
       "    </tr>\n",
       "    <tr>\n",
       "      <th>2013-02-13</th>\n",
       "      <td>38.675202</td>\n",
       "      <td>39.027626</td>\n",
       "      <td>38.276385</td>\n",
       "      <td>38.630306</td>\n",
       "    </tr>\n",
       "    <tr>\n",
       "      <th>2013-02-14</th>\n",
       "      <td>39.466134</td>\n",
       "      <td>40.028357</td>\n",
       "      <td>39.084703</td>\n",
       "      <td>39.634254</td>\n",
       "    </tr>\n",
       "  </tbody>\n",
       "</table>\n",
       "</div>"
      ],
      "text/plain": [
       "                 open       high        low      close\n",
       "date                                                  \n",
       "2013-02-08  41.082020  41.500640  40.789177  41.207748\n",
       "2013-02-11  40.832917  41.173278  40.513390  40.862581\n",
       "2013-02-12  39.197571  39.582484  38.799817  39.161757\n",
       "2013-02-13  38.675202  39.027626  38.276385  38.630306\n",
       "2013-02-14  39.466134  40.028357  39.084703  39.634254"
      ]
     },
     "execution_count": 13,
     "metadata": {},
     "output_type": "execute_result"
    }
   ],
   "source": [
    "# Compute volume-weighted index prices\n",
    "index_prices = pd.DataFrame()\n",
    "volume_cols = new_df.filter(like='volume-')\n",
    "total_volume = volume_cols.sum(axis=1)\n",
    "\n",
    "for price_type in ['open', 'high', 'low', 'close']:\n",
    "    price_cols = new_df.filter(like=f'{price_type}-')\n",
    "    index_prices[price_type] = (price_cols.values * volume_cols.values).sum(axis=1) / total_volume.values\n",
    "\n",
    "index_prices.index = new_df.index\n",
    "print(f\"Index prices shape: {index_prices.shape}\")\n",
    "index_prices.head()"
   ]
  },
  {
   "cell_type": "markdown",
   "id": "9aac1e07",
   "metadata": {},
   "source": [
    "## Save Data"
   ]
  },
  {
   "cell_type": "code",
   "execution_count": 14,
   "id": "d583246c",
   "metadata": {},
   "outputs": [],
   "source": [
    "index_prices.to_csv('sp500_index_prices.csv')"
   ]
  },
  {
   "cell_type": "code",
   "execution_count": 15,
   "id": "c8be7188",
   "metadata": {},
   "outputs": [
    {
     "data": {
      "text/plain": [
       "np.int64(0)"
      ]
     },
     "execution_count": 15,
     "metadata": {},
     "output_type": "execute_result"
    }
   ],
   "source": [
    "index_prices.isna().sum().sum()  # Check for NaN values"
   ]
  },
  {
   "cell_type": "code",
   "execution_count": null,
   "id": "20e823ab",
   "metadata": {},
   "outputs": [],
   "source": []
  }
 ],
 "metadata": {
  "kernelspec": {
   "display_name": ".venv",
   "language": "python",
   "name": "python3"
  },
  "language_info": {
   "codemirror_mode": {
    "name": "ipython",
    "version": 3
   },
   "file_extension": ".py",
   "mimetype": "text/x-python",
   "name": "python",
   "nbconvert_exporter": "python",
   "pygments_lexer": "ipython3",
   "version": "3.12.3"
  }
 },
 "nbformat": 4,
 "nbformat_minor": 5
}
